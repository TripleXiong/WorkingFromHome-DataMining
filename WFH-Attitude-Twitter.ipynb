{
 "cells": [
  {
   "cell_type": "code",
   "execution_count": 58,
   "metadata": {},
   "outputs": [],
   "source": [
    "import csv\n",
    "import tweepy\n",
    "import re\n",
    "import pickle\n",
    "import pandas as pd\n",
    "import numpy as np\n",
    "import matplotlib.pyplot as plt\n",
    "import string\n",
    "from nltk.tokenize import sent_tokenize\n",
    "from nltk.corpus import words\n",
    "from nltk.corpus import stopwords\n",
    "from nltk.tokenize import word_tokenize\n",
    "from nltk.stem import WordNetLemmatizer\n",
    "from nltk.stem import PorterStemmer\n",
    "from nltk.sentiment.vader import SentimentIntensityAnalyzer\n",
    "import collections\n",
    "import seaborn as sns\n",
    "from textblob import TextBlob\n",
    "import warnings\n",
    "warnings.filterwarnings('ignore')"
   ]
  },
  {
   "cell_type": "markdown",
   "metadata": {},
   "source": [
    "### Data Collection"
   ]
  },
  {
   "cell_type": "code",
   "execution_count": 59,
   "metadata": {},
   "outputs": [],
   "source": [
    "consumer_key = \"TQdFGlCeGV1KnhimdbNxetxQv\"\n",
    "consumer_secret = \"uzcYHcRjmKapWtMokPAkMSAP9V5bJD2ETpufenQhWPMYLHB6mC\"\n",
    "access_token = \"1323204428346855425-TnV70iRct91ZivQrqfobFCx6gcm5zB\"\n",
    "access_token_secret = \"NEziLUEGDmzh14gq34aKxPDQiMjl8dtJsafVzxWqR8k5z\""
   ]
  },
  {
   "cell_type": "code",
   "execution_count": 60,
   "metadata": {},
   "outputs": [],
   "source": [
    "auth = tweepy.OAuthHandler(consumer_key, consumer_secret)\n",
    "auth.set_access_token(access_token, access_token_secret)\n",
    "api = tweepy.API(auth)"
   ]
  },
  {
   "cell_type": "code",
   "execution_count": 61,
   "metadata": {},
   "outputs": [],
   "source": [
    "# columns_name = ['timestamp', 'id', \"user id\", \"tweet_content\", \"username\", \"followers\", \"all hashtags\", \"location\"]\n",
    "# wfh_data = pd.DataFrame(columns = columns_name)\n",
    "# for tweet in tweepy.Cursor(api.search_full_archive, environment_name=\"WFH1\", \n",
    "#                            query=\"(#workingfromhome OR #WFH OR #remotework OR #studyfromhome OR #zoomuniversity OR #remotework) -is:retweet lang:en place_country:us\",        \n",
    "#                            fromDate=\"202003020000\", \n",
    "#                            toDate=\"202003140000\",\n",
    "#                            maxResults=500\n",
    "#                            ).items():              \n",
    "#                 wfh_data.loc[len(wfh_data.index)] = [\n",
    "#                     tweet.created_at,\n",
    "#                     tweet.id,\n",
    "#                     tweet.user.id,\n",
    "#                     tweet.text.replace('\\n',' '), \n",
    "#                     tweet.user.screen_name, \n",
    "#                     tweet.user.followers_count, \n",
    "#                     [e['text'] for e in tweet._json['entities']['hashtags']],\n",
    "#                     tweet.place]\n",
    "# wfh_data.to_pickle(\"wfh_mar.pickle\")\n",
    "# wfh_data.to_csv(\"test.csv\", index=False)"
   ]
  },
  {
   "cell_type": "code",
   "execution_count": 62,
   "metadata": {},
   "outputs": [],
   "source": [
    "# file = open(\"wfh_mar.pickle\", \"rb\")\n",
    "# data = pickle.load(file)\n",
    "# csv_file = open('test.csv', 'a')\n",
    "# csv_writer = csv.writer(csv_file)\n",
    "# for tweet in tweepy.Cursor(api.search_full_archive, environment_name=\"WFH1\", \n",
    "#                            query=\"(#workingfromhome OR #WFH OR #remotework OR #studyfromhome OR #zoomuniversity OR #remotework) -is:retweet lang:en place_country:us\",        \n",
    "#                            fromDate=\"202004190000\", \n",
    "#                            toDate=\"202004202359\",\n",
    "#                            maxResults=500\n",
    "#                            ).items(500):\n",
    "#     if tweet.id in data['id'].to_numpy():\n",
    "#         continue\n",
    "#     csv_writer.writerow([tweet.created_at, \n",
    "#                          tweet.id,\n",
    "#                          tweet.user.id,\n",
    "#                          tweet.text.replace('\\n',' '),\n",
    "#                          tweet.user.screen_name, \n",
    "#                          tweet.user.followers_count, \n",
    "#                          [e['text'] for e in tweet._json['entities']['hashtags']],\n",
    "#                          tweet.place])\n",
    "#     data.loc[len(data.index)] = [tweet.created_at, \n",
    "#                          tweet.id,\n",
    "#                          tweet.user.id,\n",
    "#                          tweet.text.replace('\\n',' '), \n",
    "#                          tweet.user.screen_name, \n",
    "#                          tweet.user.followers_count, \n",
    "#                          [e['text'] for e in tweet._json['entities']['hashtags']],\n",
    "#                          tweet.place]\n",
    "# data.to_pickle(\"wfh_mar.pickle\")\n",
    "# data.to_csv(\"test.csv\", index=False)"
   ]
  },
  {
   "cell_type": "code",
   "execution_count": 63,
   "metadata": {},
   "outputs": [],
   "source": [
    "file = open(\"wfh_mar.pickle\", \"rb\")\n",
    "data = pickle.load(file)"
   ]
  },
  {
   "cell_type": "markdown",
   "metadata": {},
   "source": [
    "### Data Preprocessing"
   ]
  },
  {
   "cell_type": "code",
   "execution_count": 64,
   "metadata": {},
   "outputs": [],
   "source": [
    "sorted_data = data.sort_values(by='timestamp')\n",
    "sorted_data[\"date\"] = pd.to_datetime(sorted_data['timestamp']).dt.date"
   ]
  },
  {
   "cell_type": "code",
   "execution_count": 65,
   "metadata": {},
   "outputs": [
    {
     "data": {
      "text/html": [
       "<div>\n",
       "<style scoped>\n",
       "    .dataframe tbody tr th:only-of-type {\n",
       "        vertical-align: middle;\n",
       "    }\n",
       "\n",
       "    .dataframe tbody tr th {\n",
       "        vertical-align: top;\n",
       "    }\n",
       "\n",
       "    .dataframe thead th {\n",
       "        text-align: right;\n",
       "    }\n",
       "</style>\n",
       "<table border=\"1\" class=\"dataframe\">\n",
       "  <thead>\n",
       "    <tr style=\"text-align: right;\">\n",
       "      <th></th>\n",
       "      <th>timestamp</th>\n",
       "      <th>id</th>\n",
       "      <th>user id</th>\n",
       "      <th>tweet_content</th>\n",
       "      <th>username</th>\n",
       "      <th>followers</th>\n",
       "      <th>all hashtags</th>\n",
       "      <th>location</th>\n",
       "      <th>date</th>\n",
       "    </tr>\n",
       "  </thead>\n",
       "  <tbody>\n",
       "    <tr>\n",
       "      <th>538</th>\n",
       "      <td>2020-03-02 02:14:10</td>\n",
       "      <td>1234300936555827206</td>\n",
       "      <td>31557222</td>\n",
       "      <td>An incredible afternoon for a ski at Swedetown...</td>\n",
       "      <td>UPTreefarmer</td>\n",
       "      <td>1558</td>\n",
       "      <td>[]</td>\n",
       "      <td>Place(id='0188d8cc43ba6ac1', url='https://api....</td>\n",
       "      <td>2020-03-02</td>\n",
       "    </tr>\n",
       "    <tr>\n",
       "      <th>537</th>\n",
       "      <td>2020-03-02 15:47:31</td>\n",
       "      <td>1234505623741423617</td>\n",
       "      <td>296636356</td>\n",
       "      <td>This book was instrumental in establishing the...</td>\n",
       "      <td>PaulHill_io</td>\n",
       "      <td>1748</td>\n",
       "      <td>[]</td>\n",
       "      <td>Place(id='1879ace9e02ace61', url='https://api....</td>\n",
       "      <td>2020-03-02</td>\n",
       "    </tr>\n",
       "    <tr>\n",
       "      <th>536</th>\n",
       "      <td>2020-03-02 16:44:38</td>\n",
       "      <td>1234519999101984770</td>\n",
       "      <td>4305479414</td>\n",
       "      <td>Throwback to last year when we took some of th...</td>\n",
       "      <td>SymbolSyn</td>\n",
       "      <td>249</td>\n",
       "      <td>[yyc, california]</td>\n",
       "      <td>Place(id='1cf657005480e70e', url='https://api....</td>\n",
       "      <td>2020-03-02</td>\n",
       "    </tr>\n",
       "    <tr>\n",
       "      <th>535</th>\n",
       "      <td>2020-03-02 17:02:03</td>\n",
       "      <td>1234524381071790080</td>\n",
       "      <td>12268532</td>\n",
       "      <td>Lots of talk about #collaboration and #remotew...</td>\n",
       "      <td>jwarnke</td>\n",
       "      <td>1350</td>\n",
       "      <td>[collaboration, remotework]</td>\n",
       "      <td>Place(id='9807c5c5f7a2c6ce', url='https://api....</td>\n",
       "      <td>2020-03-02</td>\n",
       "    </tr>\n",
       "    <tr>\n",
       "      <th>534</th>\n",
       "      <td>2020-03-02 17:44:10</td>\n",
       "      <td>1234534979796783105</td>\n",
       "      <td>16280111</td>\n",
       "      <td>Remote workers are ideal now - if #employers h...</td>\n",
       "      <td>MeetDonnaW</td>\n",
       "      <td>1082</td>\n",
       "      <td>[employers, remotework]</td>\n",
       "      <td>Place(id='4b58830723ec6371', url='https://api....</td>\n",
       "      <td>2020-03-02</td>\n",
       "    </tr>\n",
       "  </tbody>\n",
       "</table>\n",
       "</div>"
      ],
      "text/plain": [
       "              timestamp                   id     user id  \\\n",
       "538 2020-03-02 02:14:10  1234300936555827206    31557222   \n",
       "537 2020-03-02 15:47:31  1234505623741423617   296636356   \n",
       "536 2020-03-02 16:44:38  1234519999101984770  4305479414   \n",
       "535 2020-03-02 17:02:03  1234524381071790080    12268532   \n",
       "534 2020-03-02 17:44:10  1234534979796783105    16280111   \n",
       "\n",
       "                                         tweet_content      username  \\\n",
       "538  An incredible afternoon for a ski at Swedetown...  UPTreefarmer   \n",
       "537  This book was instrumental in establishing the...   PaulHill_io   \n",
       "536  Throwback to last year when we took some of th...     SymbolSyn   \n",
       "535  Lots of talk about #collaboration and #remotew...       jwarnke   \n",
       "534  Remote workers are ideal now - if #employers h...    MeetDonnaW   \n",
       "\n",
       "    followers                 all hashtags  \\\n",
       "538      1558                           []   \n",
       "537      1748                           []   \n",
       "536       249            [yyc, california]   \n",
       "535      1350  [collaboration, remotework]   \n",
       "534      1082      [employers, remotework]   \n",
       "\n",
       "                                              location        date  \n",
       "538  Place(id='0188d8cc43ba6ac1', url='https://api....  2020-03-02  \n",
       "537  Place(id='1879ace9e02ace61', url='https://api....  2020-03-02  \n",
       "536  Place(id='1cf657005480e70e', url='https://api....  2020-03-02  \n",
       "535  Place(id='9807c5c5f7a2c6ce', url='https://api....  2020-03-02  \n",
       "534  Place(id='4b58830723ec6371', url='https://api....  2020-03-02  "
      ]
     },
     "execution_count": 65,
     "metadata": {},
     "output_type": "execute_result"
    }
   ],
   "source": [
    "sorted_data.head()"
   ]
  },
  {
   "cell_type": "code",
   "execution_count": 66,
   "metadata": {},
   "outputs": [],
   "source": [
    "def clean_text(text):\n",
    "    text = text.apply(lambda x: re.sub(r\"https\\S+\", \"\", str(x)))\n",
    "#     text = text.apply(lambda x: x.lower())\n",
    "    text = text.apply(lambda x: x.translate(str.maketrans('', '', string.punctuation)))\n",
    "#     stop_words = set(stopwords.words('english'))\n",
    "#     stop_words.update([\"#workingfromhome\", \"#wfh\"])\n",
    "#     text = text.apply(lambda x: ' '.join([word for word in x.split() if word not in stop_words]))\n",
    "    return text"
   ]
  },
  {
   "cell_type": "code",
   "execution_count": 67,
   "metadata": {},
   "outputs": [],
   "source": [
    "tweets = clean_text(data[\"tweet_content\"])"
   ]
  },
  {
   "cell_type": "code",
   "execution_count": 68,
   "metadata": {},
   "outputs": [],
   "source": [
    "sid = SentimentIntensityAnalyzer()\n",
    "sentiment_scores = tweets.apply(lambda x: sid.polarity_scores(x))\n",
    "sent_scores_df = pd.DataFrame(list(sentiment_scores))"
   ]
  },
  {
   "cell_type": "code",
   "execution_count": 69,
   "metadata": {},
   "outputs": [],
   "source": [
    "text_blob = tweets.apply(lambda tweet: TextBlob(tweet).sentiment)"
   ]
  },
  {
   "cell_type": "code",
   "execution_count": 70,
   "metadata": {},
   "outputs": [],
   "source": [
    "nltk = sent_scores_df.to_numpy()\n",
    "text_blob = text_blob.to_numpy()"
   ]
  },
  {
   "cell_type": "code",
   "execution_count": 71,
   "metadata": {},
   "outputs": [],
   "source": [
    "# label = []\n",
    "# for i in range(len(text_blob)):\n",
    "#     if text_blob[i].polarity < 0 or nltk[i][3] < 0:\n",
    "#         label.append(\"negative\")\n",
    "#         continue\n",
    "#     if text_blob[i].polarity == 0 and nltk[i][3] > 0:\n",
    "#         label.append(\"positive\")\n",
    "#         continue\n",
    "#     if text_blob[i].polarity > 0 and nltk[i][3] == 0:\n",
    "#         label.append(\"positive\")\n",
    "#         continue\n",
    "#     if text_blob[i].polarity == 0 and nltk[i][3] < 0:\n",
    "#         label.append(\"negative\")\n",
    "#         continue\n",
    "#     if text_blob[i].polarity < 0 and nltk[i][3] == 0:\n",
    "#         label.append(\"negative\")\n",
    "#         continue\n",
    "#     if text_blob[i].polarity > 0 and nltk[i][3] > 0:\n",
    "#         label.append(\"positive\")\n",
    "#         continue\n",
    "#     if text_blob[i].polarity < 0 and nltk[i][3] < 0:\n",
    "#         label.append(\"negative\")\n",
    "#         continue\n",
    "#     if text_blob[i].polarity * nltk[i][3] < 0 or (text_blob[i].polarity == 0 and nltk[i][3] == 0):\n",
    "#         if nltk[i][0] < nltk[i][2]:\n",
    "#             label.append(\"positive\")\n",
    "#         elif nltk[i][0] > nltk[i][2]:\n",
    "#             label.append(\"negative\")\n",
    "#         else:\n",
    "#             label.append(\"neural\")\n",
    "#         continue\n",
    "\n",
    "#     else:\n",
    "# #         print(text_blob[i].polarity, nltk[i][3])\n",
    "#         label.append(\"neural\")\n",
    "# sorted_data['labels'] = label\n",
    "# sorted_data.to_pickle(\"sorted_wfh.pickle\")"
   ]
  },
  {
   "cell_type": "code",
   "execution_count": 72,
   "metadata": {},
   "outputs": [
    {
     "data": {
      "text/html": [
       "<div>\n",
       "<style scoped>\n",
       "    .dataframe tbody tr th:only-of-type {\n",
       "        vertical-align: middle;\n",
       "    }\n",
       "\n",
       "    .dataframe tbody tr th {\n",
       "        vertical-align: top;\n",
       "    }\n",
       "\n",
       "    .dataframe thead th {\n",
       "        text-align: right;\n",
       "    }\n",
       "</style>\n",
       "<table border=\"1\" class=\"dataframe\">\n",
       "  <thead>\n",
       "    <tr style=\"text-align: right;\">\n",
       "      <th></th>\n",
       "      <th>timestamp</th>\n",
       "      <th>id</th>\n",
       "      <th>user id</th>\n",
       "      <th>tweet_content</th>\n",
       "      <th>username</th>\n",
       "      <th>followers</th>\n",
       "      <th>all hashtags</th>\n",
       "      <th>location</th>\n",
       "      <th>date</th>\n",
       "    </tr>\n",
       "  </thead>\n",
       "  <tbody>\n",
       "    <tr>\n",
       "      <th>538</th>\n",
       "      <td>2020-03-02 02:14:10</td>\n",
       "      <td>1234300936555827206</td>\n",
       "      <td>31557222</td>\n",
       "      <td>An incredible afternoon for a ski at Swedetown...</td>\n",
       "      <td>UPTreefarmer</td>\n",
       "      <td>1558</td>\n",
       "      <td>[]</td>\n",
       "      <td>Place(id='0188d8cc43ba6ac1', url='https://api....</td>\n",
       "      <td>2020-03-02</td>\n",
       "    </tr>\n",
       "    <tr>\n",
       "      <th>537</th>\n",
       "      <td>2020-03-02 15:47:31</td>\n",
       "      <td>1234505623741423617</td>\n",
       "      <td>296636356</td>\n",
       "      <td>This book was instrumental in establishing the...</td>\n",
       "      <td>PaulHill_io</td>\n",
       "      <td>1748</td>\n",
       "      <td>[]</td>\n",
       "      <td>Place(id='1879ace9e02ace61', url='https://api....</td>\n",
       "      <td>2020-03-02</td>\n",
       "    </tr>\n",
       "    <tr>\n",
       "      <th>536</th>\n",
       "      <td>2020-03-02 16:44:38</td>\n",
       "      <td>1234519999101984770</td>\n",
       "      <td>4305479414</td>\n",
       "      <td>Throwback to last year when we took some of th...</td>\n",
       "      <td>SymbolSyn</td>\n",
       "      <td>249</td>\n",
       "      <td>[yyc, california]</td>\n",
       "      <td>Place(id='1cf657005480e70e', url='https://api....</td>\n",
       "      <td>2020-03-02</td>\n",
       "    </tr>\n",
       "    <tr>\n",
       "      <th>535</th>\n",
       "      <td>2020-03-02 17:02:03</td>\n",
       "      <td>1234524381071790080</td>\n",
       "      <td>12268532</td>\n",
       "      <td>Lots of talk about #collaboration and #remotew...</td>\n",
       "      <td>jwarnke</td>\n",
       "      <td>1350</td>\n",
       "      <td>[collaboration, remotework]</td>\n",
       "      <td>Place(id='9807c5c5f7a2c6ce', url='https://api....</td>\n",
       "      <td>2020-03-02</td>\n",
       "    </tr>\n",
       "    <tr>\n",
       "      <th>534</th>\n",
       "      <td>2020-03-02 17:44:10</td>\n",
       "      <td>1234534979796783105</td>\n",
       "      <td>16280111</td>\n",
       "      <td>Remote workers are ideal now - if #employers h...</td>\n",
       "      <td>MeetDonnaW</td>\n",
       "      <td>1082</td>\n",
       "      <td>[employers, remotework]</td>\n",
       "      <td>Place(id='4b58830723ec6371', url='https://api....</td>\n",
       "      <td>2020-03-02</td>\n",
       "    </tr>\n",
       "  </tbody>\n",
       "</table>\n",
       "</div>"
      ],
      "text/plain": [
       "              timestamp                   id     user id  \\\n",
       "538 2020-03-02 02:14:10  1234300936555827206    31557222   \n",
       "537 2020-03-02 15:47:31  1234505623741423617   296636356   \n",
       "536 2020-03-02 16:44:38  1234519999101984770  4305479414   \n",
       "535 2020-03-02 17:02:03  1234524381071790080    12268532   \n",
       "534 2020-03-02 17:44:10  1234534979796783105    16280111   \n",
       "\n",
       "                                         tweet_content      username  \\\n",
       "538  An incredible afternoon for a ski at Swedetown...  UPTreefarmer   \n",
       "537  This book was instrumental in establishing the...   PaulHill_io   \n",
       "536  Throwback to last year when we took some of th...     SymbolSyn   \n",
       "535  Lots of talk about #collaboration and #remotew...       jwarnke   \n",
       "534  Remote workers are ideal now - if #employers h...    MeetDonnaW   \n",
       "\n",
       "    followers                 all hashtags  \\\n",
       "538      1558                           []   \n",
       "537      1748                           []   \n",
       "536       249            [yyc, california]   \n",
       "535      1350  [collaboration, remotework]   \n",
       "534      1082      [employers, remotework]   \n",
       "\n",
       "                                              location        date  \n",
       "538  Place(id='0188d8cc43ba6ac1', url='https://api....  2020-03-02  \n",
       "537  Place(id='1879ace9e02ace61', url='https://api....  2020-03-02  \n",
       "536  Place(id='1cf657005480e70e', url='https://api....  2020-03-02  \n",
       "535  Place(id='9807c5c5f7a2c6ce', url='https://api....  2020-03-02  \n",
       "534  Place(id='4b58830723ec6371', url='https://api....  2020-03-02  "
      ]
     },
     "execution_count": 72,
     "metadata": {},
     "output_type": "execute_result"
    }
   ],
   "source": [
    "sorted_data.head()"
   ]
  },
  {
   "cell_type": "code",
   "execution_count": 73,
   "metadata": {},
   "outputs": [],
   "source": [
    "file2 = open(\"bert_pred.pickle\", \"rb\")\n",
    "bert = pickle.load(file2)"
   ]
  },
  {
   "cell_type": "code",
   "execution_count": 74,
   "metadata": {},
   "outputs": [
    {
     "data": {
      "text/plain": [
       "(14832, 14832, 14832)"
      ]
     },
     "execution_count": 74,
     "metadata": {},
     "output_type": "execute_result"
    }
   ],
   "source": [
    "len(bert), len(nltk), len(text_blob)"
   ]
  },
  {
   "cell_type": "markdown",
   "metadata": {},
   "source": [
    "#### set up rules to assign the sentiment (Positive, Negative, Netrual)"
   ]
  },
  {
   "cell_type": "code",
   "execution_count": 75,
   "metadata": {},
   "outputs": [],
   "source": [
    "label = []\n",
    "for i in range(len(bert)):\n",
    "    if text_blob[i].polarity * nltk[i][3] > 0:\n",
    "        if text_blob[i].polarity > 0:\n",
    "            label.append(\"positive\")\n",
    "            continue\n",
    "        else:\n",
    "            label.append(\"negative\")\n",
    "            continue\n",
    "            \n",
    "            \n",
    "    if text_blob[i].polarity * nltk[i][3] == 0:\n",
    "        if bert[i] == 2:\n",
    "            if max(text_blob[i].polarity, nltk[i][3]) > 0:\n",
    "                label.append(\"positive\")\n",
    "                continue\n",
    "            else:\n",
    "                if text_blob[i].polarity == 0 and nltk[i][3] == 0:\n",
    "                    label.append(\"positive\")\n",
    "                    continue\n",
    "                else:\n",
    "                    if text_blob[i].polarity < -0.3 or nltk[i][3] < -0.3:\n",
    "                        label.append(\"negative\")\n",
    "                        continue\n",
    "                    else:\n",
    "                        label.append(\"neutral\")\n",
    "                        continue\n",
    "        if bert[i] == 1:\n",
    "            if max(text_blob[i].polarity, nltk[i][3]) > 0.3:\n",
    "                label.append(\"positive\")\n",
    "                continue\n",
    "            if 0 < max(text_blob[i].polarity, nltk[i][3]) < 0.3:\n",
    "                label.append(\"neutral\")\n",
    "                continue\n",
    "            if min(text_blob[i].polarity, nltk[i][3]) < 0:\n",
    "                label.append(\"negative\")\n",
    "                continue\n",
    "            if text_blob[i].polarity == 0 and nltk[i][3] == 0:\n",
    "                label.append(\"neutral\")\n",
    "                continue\n",
    "            else:\n",
    "                label.append(\"neutral\")\n",
    "         \n",
    "        if bert[i] == 0:\n",
    "            if max(text_blob[i].polarity, nltk[i][3]) > 0.4:\n",
    "                label.append(\"positive\")\n",
    "            else:\n",
    "                label.append(\"negative\")\n",
    "            \n",
    "            \n",
    "    if text_blob[i].polarity * nltk[i][3] < 0:\n",
    "        if bert[i] == 0:\n",
    "            label.append(\"negative\")\n",
    "            continue\n",
    "        elif bert[i] == 2:\n",
    "            label.append(\"positive\")\n",
    "            continue\n",
    "        else:\n",
    "            if text_blob[i].polarity > 0 and abs(text_blob[i].polarity) > abs(nltk[i][3]):\n",
    "                label.append(\"positive\")\n",
    "                continue\n",
    "            elif text_blob[i].polarity < 0 and abs(text_blob[i].polarity) < abs(nltk[i][3]):\n",
    "                label.append(\"positive\")\n",
    "                continue\n",
    "            elif text_blob[i].polarity > 0 and abs(text_blob[i].polarity) < abs(nltk[i][3]):\n",
    "                label.append(\"negative\")\n",
    "            elif text_blob[i].polarity < 0 and abs(text_blob[i].polarity) > abs(nltk[i][3]):\n",
    "                label.append(\"negative\")\n",
    "            else:\n",
    "                label.append(\"neutral\")"
   ]
  },
  {
   "cell_type": "code",
   "execution_count": 76,
   "metadata": {},
   "outputs": [
    {
     "data": {
      "text/plain": [
       "Counter({'positive': 7484, 'negative': 3132, 'neutral': 4216})"
      ]
     },
     "execution_count": 76,
     "metadata": {},
     "output_type": "execute_result"
    }
   ],
   "source": [
    "count = collections.Counter(label)\n",
    "count"
   ]
  },
  {
   "cell_type": "code",
   "execution_count": 77,
   "metadata": {},
   "outputs": [],
   "source": [
    "sorted_data['labels'] = label"
   ]
  },
  {
   "cell_type": "code",
   "execution_count": 78,
   "metadata": {},
   "outputs": [],
   "source": [
    "sorted_data.to_pickle(\"sorted_wfh_label_updated.pickle\")"
   ]
  },
  {
   "cell_type": "code",
   "execution_count": 79,
   "metadata": {},
   "outputs": [],
   "source": [
    "pos_dict = {}\n",
    "neg_dict = {}\n",
    "neu_dict = {}\n",
    "for item in sorted_data.iterrows():\n",
    "#     print(item[1].date)\n",
    "    if item[1][\"labels\"] == \"positive\":\n",
    "        pos_dict[item[1].date.strftime(\"%m-%d\")] = pos_dict.get(item[1].date.strftime(\"%m-%d\"), 0) + 1\n",
    "    elif item[1][\"labels\"] == \"negative\":\n",
    "        neg_dict[item[1].date.strftime(\"%m-%d\")] = neg_dict.get(item[1].date.strftime(\"%m-%d\"), 0) + 1\n",
    "    elif item[1][\"labels\"] == \"neutral\":\n",
    "        neu_dict[item[1].date.strftime(\"%m-%d\")] = neu_dict.get(item[1].date.strftime(\"%m-%d\"), 0) + 1"
   ]
  },
  {
   "cell_type": "code",
   "execution_count": 80,
   "metadata": {},
   "outputs": [],
   "source": [
    "top_freq = {}\n",
    "for item in sorted_data.iterrows():\n",
    "    top_freq[item[1].date.strftime(\"%m-%d\")] = top_freq.get(item[1].date.strftime(\"%m-%d\"), 0) + 1"
   ]
  },
  {
   "cell_type": "code",
   "execution_count": 81,
   "metadata": {},
   "outputs": [],
   "source": [
    "pos_df = pd.DataFrame.from_dict(pos_dict, orient=\"index\", columns=[\"freq\"])\n",
    "pos_df = pos_df.reset_index()\n",
    "neg_df = pd.DataFrame.from_dict(neg_dict, orient=\"index\", columns=[\"freq\"])\n",
    "neg_df = neg_df.reset_index()\n",
    "neu_df = pd.DataFrame.from_dict(neu_dict, orient=\"index\", columns=[\"freq\"])\n",
    "neu_df = neu_df.reset_index()\n",
    "daily_df = pd.DataFrame.from_dict(top_freq, orient=\"index\", columns=[\"freq\"])\n",
    "daily_df = daily_df.reset_index()"
   ]
  },
  {
   "cell_type": "code",
   "execution_count": 82,
   "metadata": {},
   "outputs": [
    {
     "data": {
      "image/png": "[encoded data removed]",
      "text/plain": [
       "<Figure size 864x576 with 1 Axes>"
      ]
     },
     "metadata": {
      "needs_background": "light"
     },
     "output_type": "display_data"
    }
   ],
   "source": [
    "fig, ax = plt.subplots(figsize=(12,8))\n",
    "daily_chart = sns.barplot(data=daily_df, x='index', y='freq', ax=ax)\n",
    "freq = int(14)\n",
    "ax.set_xticklabels(daily_df.iloc[::freq]['index'])\n",
    "xtix = ax.get_xticks()\n",
    "ax.set_xticks(xtix[::freq])\n",
    "fig.autofmt_xdate()"
   ]
  },
  {
   "cell_type": "code",
   "execution_count": 83,
   "metadata": {},
   "outputs": [],
   "source": [
    "pos_ratio = []\n",
    "neg_ratio = []\n",
    "neu_ratio = []\n",
    "for date, freq in pos_dict.items():\n",
    "    neg, neu = 0, 0\n",
    "    if date in neg_dict:\n",
    "        neg = neg_dict[date]\n",
    "    if date in neu_dict:\n",
    "        neu = neu_dict[date]\n",
    "    ratio = freq / (freq + neg + neu)\n",
    "    ratio1 = neg / (freq + neg + neu)\n",
    "    ratio2 = neu / (freq + neg + neu)\n",
    "    pos_ratio.append(ratio)\n",
    "    neg_ratio.append(ratio1)\n",
    "    neu_ratio.append(ratio2)"
   ]
  },
  {
   "cell_type": "code",
   "execution_count": 84,
   "metadata": {},
   "outputs": [
    {
     "data": {
      "text/html": [
       "<div>\n",
       "<style scoped>\n",
       "    .dataframe tbody tr th:only-of-type {\n",
       "        vertical-align: middle;\n",
       "    }\n",
       "\n",
       "    .dataframe tbody tr th {\n",
       "        vertical-align: top;\n",
       "    }\n",
       "\n",
       "    .dataframe thead th {\n",
       "        text-align: right;\n",
       "    }\n",
       "</style>\n",
       "<table border=\"1\" class=\"dataframe\">\n",
       "  <thead>\n",
       "    <tr style=\"text-align: right;\">\n",
       "      <th></th>\n",
       "      <th>postive</th>\n",
       "      <th>neutral</th>\n",
       "      <th>negative</th>\n",
       "    </tr>\n",
       "    <tr>\n",
       "      <th>date</th>\n",
       "      <th></th>\n",
       "      <th></th>\n",
       "      <th></th>\n",
       "    </tr>\n",
       "  </thead>\n",
       "  <tbody>\n",
       "    <tr>\n",
       "      <th>03-02</th>\n",
       "      <td>0.400000</td>\n",
       "      <td>0.000000</td>\n",
       "      <td>0.600000</td>\n",
       "    </tr>\n",
       "    <tr>\n",
       "      <th>03-03</th>\n",
       "      <td>0.307692</td>\n",
       "      <td>0.076923</td>\n",
       "      <td>0.615385</td>\n",
       "    </tr>\n",
       "    <tr>\n",
       "      <th>03-04</th>\n",
       "      <td>0.300000</td>\n",
       "      <td>0.500000</td>\n",
       "      <td>0.200000</td>\n",
       "    </tr>\n",
       "    <tr>\n",
       "      <th>03-05</th>\n",
       "      <td>0.400000</td>\n",
       "      <td>0.200000</td>\n",
       "      <td>0.400000</td>\n",
       "    </tr>\n",
       "    <tr>\n",
       "      <th>03-06</th>\n",
       "      <td>0.523810</td>\n",
       "      <td>0.238095</td>\n",
       "      <td>0.238095</td>\n",
       "    </tr>\n",
       "    <tr>\n",
       "      <th>...</th>\n",
       "      <td>...</td>\n",
       "      <td>...</td>\n",
       "      <td>...</td>\n",
       "    </tr>\n",
       "    <tr>\n",
       "      <th>10-28</th>\n",
       "      <td>0.333333</td>\n",
       "      <td>0.363636</td>\n",
       "      <td>0.303030</td>\n",
       "    </tr>\n",
       "    <tr>\n",
       "      <th>10-29</th>\n",
       "      <td>0.514286</td>\n",
       "      <td>0.285714</td>\n",
       "      <td>0.200000</td>\n",
       "    </tr>\n",
       "    <tr>\n",
       "      <th>10-30</th>\n",
       "      <td>0.525000</td>\n",
       "      <td>0.400000</td>\n",
       "      <td>0.075000</td>\n",
       "    </tr>\n",
       "    <tr>\n",
       "      <th>10-31</th>\n",
       "      <td>0.428571</td>\n",
       "      <td>0.142857</td>\n",
       "      <td>0.428571</td>\n",
       "    </tr>\n",
       "    <tr>\n",
       "      <th>12-03</th>\n",
       "      <td>0.538000</td>\n",
       "      <td>0.270000</td>\n",
       "      <td>0.192000</td>\n",
       "    </tr>\n",
       "  </tbody>\n",
       "</table>\n",
       "<p>218 rows × 3 columns</p>\n",
       "</div>"
      ],
      "text/plain": [
       "        postive   neutral  negative\n",
       "date                               \n",
       "03-02  0.400000  0.000000  0.600000\n",
       "03-03  0.307692  0.076923  0.615385\n",
       "03-04  0.300000  0.500000  0.200000\n",
       "03-05  0.400000  0.200000  0.400000\n",
       "03-06  0.523810  0.238095  0.238095\n",
       "...         ...       ...       ...\n",
       "10-28  0.333333  0.363636  0.303030\n",
       "10-29  0.514286  0.285714  0.200000\n",
       "10-30  0.525000  0.400000  0.075000\n",
       "10-31  0.428571  0.142857  0.428571\n",
       "12-03  0.538000  0.270000  0.192000\n",
       "\n",
       "[218 rows x 3 columns]"
      ]
     },
     "execution_count": 84,
     "metadata": {},
     "output_type": "execute_result"
    }
   ],
   "source": [
    "combine_df = pd.DataFrame()\n",
    "combine_df['date'] = pos_dict.keys()\n",
    "combine_df['postive'] = pos_ratio\n",
    "combine_df['neutral'] = neu_ratio\n",
    "combine_df['negative'] = neg_ratio\n",
    "combine_df.set_index('date')"
   ]
  },
  {
   "cell_type": "code",
   "execution_count": 85,
   "metadata": {},
   "outputs": [
    {
     "data": {
      "text/plain": [
       "<matplotlib.axes._subplots.AxesSubplot at 0x7f8c970e8fd0>"
      ]
     },
     "execution_count": 85,
     "metadata": {},
     "output_type": "execute_result"
    },
    {
     "data": {
      "image/png": "[encoded data removed]",
      "text/plain": [
       "<Figure size 1152x576 with 1 Axes>"
      ]
     },
     "metadata": {
      "needs_background": "light"
     },
     "output_type": "display_data"
    }
   ],
   "source": [
    "combine_df.plot.area(stacked=True,figsize=(16,8))"
   ]
  },
  {
   "cell_type": "code",
   "execution_count": null,
   "metadata": {},
   "outputs": [],
   "source": []
  },
  {
   "cell_type": "code",
   "execution_count": null,
   "metadata": {},
   "outputs": [],
   "source": []
  }
 ],
 "metadata": {
  "kernelspec": {
   "display_name": "Python 3",
   "language": "python",
   "name": "python3"
  },
  "language_info": {
   "codemirror_mode": {
    "name": "ipython",
    "version": 3
   },
   "file_extension": ".py",
   "mimetype": "text/x-python",
   "name": "python",
   "nbconvert_exporter": "python",
   "pygments_lexer": "ipython3",
   "version": "3.7.6"
  }
 },
 "nbformat": 4,
 "nbformat_minor": 4
}
